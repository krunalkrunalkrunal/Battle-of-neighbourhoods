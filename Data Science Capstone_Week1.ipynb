{
    "cells": [
        {
            "metadata": {
                "collapsed": true
            },
            "cell_type": "markdown",
            "source": "# The Battle of the Neighborhoods - Week 1_1"
        },
        {
            "metadata": {},
            "cell_type": "markdown",
            "source": "### Introduction/Business Problem"
        },
        {
            "metadata": {},
            "cell_type": "markdown",
            "source": "The City of Toronto, is one of the most popular city and one of the most populated city in canada. It is diverse and is the financial capital of Canada. There is tremendous interest for moving to the new houses in this city. I work for a realtor firm, One of our client is looking to buy a property in this beautiful city. the client is retired couple. They are trying to find the best  location to chose for their new home after retirement. \n\nVarious requirements that client requested for the surrounding of the area where they are looking to buy their new home:\n\nParks\\\nPet friendly places\\\nDrug Store\nRestaurants\\\ncoffee shops\\\ntrails\\\nMusic friendly\n\n\nThe above are only some of the factors that can affect the location of the new home. There are some other factors such as hospital, neighbourhood. The insights derived from this analysis will give good understanding of the best fit for this client based on thier requirements."
        },
        {
            "metadata": {},
            "cell_type": "markdown",
            "source": "### Project Outcome"
        },
        {
            "metadata": {},
            "cell_type": "markdown",
            "source": "My objective is to find the best neighborhood of toronto city to buy a new house for retired client as per their requirement. This project will help us to define first footstep i.e. to find good location to start looking for a new houses in quiet and nature blessed surrounding for client.\n\n"
        },
        {
            "metadata": {},
            "cell_type": "code",
            "source": "",
            "execution_count": null,
            "outputs": []
        }
    ],
    "metadata": {
        "kernelspec": {
            "name": "python3",
            "display_name": "Python 3.6",
            "language": "python"
        },
        "language_info": {
            "name": "python",
            "version": "3.6.8",
            "mimetype": "text/x-python",
            "codemirror_mode": {
                "name": "ipython",
                "version": 3
            },
            "pygments_lexer": "ipython3",
            "nbconvert_exporter": "python",
            "file_extension": ".py"
        }
    },
    "nbformat": 4,
    "nbformat_minor": 1
}